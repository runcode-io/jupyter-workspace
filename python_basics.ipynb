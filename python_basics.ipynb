{
 "cells": [
  {
   "cell_type": "markdown",
   "id": "dbd6b2ce-03d0-4df6-a51d-71c502b87606",
   "metadata": {
    "tags": []
   },
   "source": [
    "# Introduction to Python"
   ]
  },
  {
   "cell_type": "markdown",
   "id": "a2e56df0-1d61-43f7-935e-7e65f81d2cd5",
   "metadata": {},
   "source": [
    "> Part of this chapter is based on tutorials by Geek Girls Carrots (https://github.com/ggcarrots/django-carrots)."
   ]
  },
  {
   "cell_type": "markdown",
   "id": "8680ac9d-4ddb-4d19-82e6-11bbbd9c91b1",
   "metadata": {},
   "source": [
    "Let's write some code!"
   ]
  },
  {
   "cell_type": "markdown",
   "id": "2edf4461-8b95-4068-9265-99519351f176",
   "metadata": {},
   "source": [
    "## Python prompt"
   ]
  },
  {
   "cell_type": "markdown",
   "id": "244f7087-3cf9-46e0-8164-4cdfd54248c4",
   "metadata": {},
   "source": [
    "> For readers at home: this part is covered in the [Python Basics: Integers, Strings, Lists, Variables and Errors video](https://www.youtube.com/watch?v=MO63L4s-20U)."
   ]
  },
  {
   "cell_type": "markdown",
   "id": "952af647-cced-4b9b-a306-425c3300ffe4",
   "metadata": {},
   "source": [
    "To start playing with Python, we need to open up a command line on your computer. You should already know how to do that.\n",
    "\n",
    "Once you're ready, follow the instructions below.\n",
    "\n",
    "We want to open up a Python console, so type in ```python``` on Windows or ```python3``` on Mac OS/Linux and hit ```enter```."
   ]
  },
  {
   "cell_type": "raw",
   "id": "20bf3b02-374a-4f7a-bf03-69bd4d3f9821",
   "metadata": {},
   "source": [
    "command-line\n",
    "$ python3\n",
    "Python 3.8.6 (...)\n",
    "Type \"help\", \"copyright\", \"credits\" or \"license\" for more information.\n",
    ">>>"
   ]
  },
  {
   "cell_type": "markdown",
   "id": "4fe8c058-f5aa-475f-b938-6c855493e347",
   "metadata": {},
   "source": [
    "## Your first Python command!"
   ]
  },
  {
   "cell_type": "markdown",
   "id": "2418dfdb-afa6-465b-8b38-f72ce1c2b643",
   "metadata": {},
   "source": [
    "After running the Python command, the prompt changed to ```>>>```. For us this means that for now we may only use commands in the Python language. You don't have to type in ```>>>``` – Python will do that for you.\n",
    "\n",
    "If you want to exit the Python console at any point, type ```exit()``` or use the shortcut ```Ctrl + Z``` for Windows and ```Ctrl + D``` for Mac/Linux. Then you won't see ```>>>``` any longer.\n",
    "\n",
    "For now, we don't want to exit the Python console. We want to learn more about it. Let's start by typing some math, like ```2 + 3``` and hitting ```enter```."
   ]
  },
  {
   "cell_type": "code",
   "execution_count": 2,
   "id": "ae802ede-3aef-42a9-9893-234cf3ce61ca",
   "metadata": {},
   "outputs": [
    {
     "data": {
      "text/plain": [
       "5"
      ]
     },
     "execution_count": 2,
     "metadata": {},
     "output_type": "execute_result"
    }
   ],
   "source": [
    "2 + 3"
   ]
  },
  {
   "cell_type": "markdown",
   "id": "54ae77ee-ed38-4ed9-b68a-5fa4a7be20d7",
   "metadata": {},
   "source": [
    "Nice! See how the answer popped out? Python knows math! You could try other commands like:"
   ]
  },
  {
   "cell_type": "markdown",
   "id": "87458aa7-2151-4836-99aa-74314e2dbfca",
   "metadata": {},
   "source": [
    "- 4 * 5\n",
    "- 5 - 1\n",
    "- 40 / 2"
   ]
  },
  {
   "cell_type": "markdown",
   "id": "07251e56-3887-408d-8781-332f665e480c",
   "metadata": {},
   "source": [
    "To perform exponential calculation, say 2 to the power 3, we type:"
   ]
  },
  {
   "cell_type": "code",
   "execution_count": 3,
   "id": "016610bd-3c0e-4eb6-bc82-866af7aba243",
   "metadata": {},
   "outputs": [
    {
     "data": {
      "text/plain": [
       "8"
      ]
     },
     "execution_count": 3,
     "metadata": {},
     "output_type": "execute_result"
    }
   ],
   "source": [
    "2 ** 3"
   ]
  },
  {
   "cell_type": "markdown",
   "id": "31cc552f-ea60-4bc9-aeda-5eaa622585dc",
   "metadata": {},
   "source": [
    "Have fun with this for a little while and then get back here. :)\n",
    "\n",
    "As you can see, Python is a great calculator. If you're wondering what else you can do…"
   ]
  },
  {
   "cell_type": "markdown",
   "id": "19fde81d-558b-4252-a2aa-3183b627d393",
   "metadata": {},
   "source": [
    "## Strings"
   ]
  },
  {
   "cell_type": "markdown",
   "id": "2fd695b4-6f69-473c-88d0-b910d1302a9e",
   "metadata": {},
   "source": [
    "How about your name? Type your first name in quotes like this:"
   ]
  },
  {
   "cell_type": "code",
   "execution_count": 4,
   "id": "3ec378a5-24b5-4b68-984d-837608461847",
   "metadata": {},
   "outputs": [
    {
     "data": {
      "text/plain": [
       "'Ola'"
      ]
     },
     "execution_count": 4,
     "metadata": {},
     "output_type": "execute_result"
    }
   ],
   "source": [
    "\"Ola\""
   ]
  },
  {
   "cell_type": "markdown",
   "id": "7ce04a08-743f-4ccb-8ec7-390cd5793c0a",
   "metadata": {},
   "source": [
    "You've now created your first string! It's a sequence of characters that can be processed by a computer. The string must always begin and end with the same character. This may be single (``` ' ```) or double (``` \" ```) quotes (there is no difference!) The quotes tell Python that what's inside of them is a string.\n",
    "\n",
    "Strings can be strung together. Try this:"
   ]
  },
  {
   "cell_type": "code",
   "execution_count": 5,
   "id": "e01abe07-f8ef-49b2-bbc4-8ef261a24342",
   "metadata": {},
   "outputs": [
    {
     "data": {
      "text/plain": [
       "'Hi there Ola'"
      ]
     },
     "execution_count": 5,
     "metadata": {},
     "output_type": "execute_result"
    }
   ],
   "source": [
    "\"Hi there \" + \"Ola\""
   ]
  },
  {
   "cell_type": "markdown",
   "id": "24cd8137-c031-4f3b-bda0-438a14103a3d",
   "metadata": {},
   "source": [
    "You can also multiply strings with a number:"
   ]
  },
  {
   "cell_type": "code",
   "execution_count": 6,
   "id": "71917207-7699-4511-8d3e-8b10b20f9985",
   "metadata": {},
   "outputs": [
    {
     "data": {
      "text/plain": [
       "'OlaOlaOla'"
      ]
     },
     "execution_count": 6,
     "metadata": {},
     "output_type": "execute_result"
    }
   ],
   "source": [
    "\"Ola\" * 3"
   ]
  },
  {
   "cell_type": "markdown",
   "id": "64b0892d-1809-4870-b7f0-d835123c9b3d",
   "metadata": {},
   "source": [
    "If you need to put an apostrophe inside your string, you have two ways to do it.\n",
    "\n",
    "Using double quotes:"
   ]
  },
  {
   "cell_type": "code",
   "execution_count": 7,
   "id": "02343342-cb79-4559-ab47-9e5aff56371d",
   "metadata": {},
   "outputs": [
    {
     "data": {
      "text/plain": [
       "\"Runnin' down the hill\""
      ]
     },
     "execution_count": 7,
     "metadata": {},
     "output_type": "execute_result"
    }
   ],
   "source": [
    "\"Runnin' down the hill\""
   ]
  },
  {
   "cell_type": "markdown",
   "id": "cdba1260-c53d-4a88-9049-a04daa86beaf",
   "metadata": {},
   "source": [
    "or escaping the apostrophe with a backslash (``` \\ ```):"
   ]
  },
  {
   "cell_type": "code",
   "execution_count": 11,
   "id": "a5501014-badb-4e62-8db8-ce2e6a4167d0",
   "metadata": {},
   "outputs": [
    {
     "data": {
      "text/plain": [
       "'Runnin\" down the hill'"
      ]
     },
     "execution_count": 11,
     "metadata": {},
     "output_type": "execute_result"
    }
   ],
   "source": [
    "'Runnin\\\" down the hill'"
   ]
  },
  {
   "cell_type": "markdown",
   "id": "1331a679-ad92-492f-aa12-fa98555a477e",
   "metadata": {},
   "source": [
    "Nice, huh? To see your name in uppercase letters, type:"
   ]
  },
  {
   "cell_type": "code",
   "execution_count": 12,
   "id": "66fcfc5b-c6f5-40d8-9f62-aac1bbc902c3",
   "metadata": {},
   "outputs": [
    {
     "data": {
      "text/plain": [
       "'OLA'"
      ]
     },
     "execution_count": 12,
     "metadata": {},
     "output_type": "execute_result"
    }
   ],
   "source": [
    "\"Ola\".upper()"
   ]
  },
  {
   "cell_type": "markdown",
   "id": "9c271771-f5a5-4ce9-90da-df3990ee0de5",
   "metadata": {},
   "source": [
    "You just used the ```upper``` **method** on your string! A method (like ```upper()```) is a sequence of instructions that Python has to perform on a given object (\"```Ola```\") once you call it.\n",
    "\n",
    "If you want to know the number of letters contained in your name, there is a **function** for that too!"
   ]
  },
  {
   "cell_type": "code",
   "execution_count": 13,
   "id": "fea26a33-decd-4141-b2b3-5e11db617d0a",
   "metadata": {},
   "outputs": [
    {
     "data": {
      "text/plain": [
       "3"
      ]
     },
     "execution_count": 13,
     "metadata": {},
     "output_type": "execute_result"
    }
   ],
   "source": [
    "len(\"Ola\")"
   ]
  },
  {
   "cell_type": "markdown",
   "id": "e017a43a-38b3-4e34-8fde-e63c11b18678",
   "metadata": {},
   "source": [
    "Wonder why sometimes you call functions with a``` . ```at the end of a string (like ```\"Ola\".upper()```) and sometimes you first call a function and place the string in parentheses? Well, in some cases, functions belong to objects, like ```upper()```, which can only be performed on strings. In this case, we call the function a **method**. Other times, functions don't belong to anything specific and can be used on different types of objects, just like ```len()```. That's why we're giving ```\"Ola\"``` as a parameter to the ```len``` function."
   ]
  },
  {
   "cell_type": "markdown",
   "id": "5ecdb0d7-f701-4e53-a77d-696cc98b00cc",
   "metadata": {},
   "source": [
    "## Summary"
   ]
  },
  {
   "cell_type": "markdown",
   "id": "e537b16d-2c41-4d4d-91c0-0221148332e6",
   "metadata": {},
   "source": [
    "OK, enough of strings. So far you've learned about:\n",
    "\n",
    "- **the prompt** – typing commands (code) into the Python prompt results in answers in Python\n",
    "- **numbers and strings** – in Python numbers are used for math and strings for text objects\n",
    "- **operators** – like``` + ```and``` *```, combine values to produce a new one\n",
    "- **functions** – like ```upper()``` and ```len()```, perform actions on objects.\n",
    "\n",
    "These are the basics of every programming language you learn. Ready for something harder? We bet you are!"
   ]
  },
  {
   "cell_type": "markdown",
   "id": "a30eac68-0dfb-4778-a573-2ad894f3291b",
   "metadata": {},
   "source": [
    "## Errors"
   ]
  },
  {
   "cell_type": "markdown",
   "id": "1fc0c5e7-ce80-450c-9c41-9f59348b38ab",
   "metadata": {},
   "source": [
    "Let's try something new. Can we get the length of a number the same way we could find out the length of our name? Type in ```len(304023)``` and hit ```enter```:"
   ]
  },
  {
   "cell_type": "code",
   "execution_count": null,
   "id": "5ffc4594-5ce8-4081-a9e6-a0622ac7c044",
   "metadata": {},
   "outputs": [],
   "source": [
    "len(304023)"
   ]
  },
  {
   "cell_type": "markdown",
   "id": "386079ff-ed73-4e46-8275-6245c2677885",
   "metadata": {},
   "source": [
    "We got our first error! The  icon is our way of giving you a heads up that the code you are about to run won't work as expected. Making mistakes (even intentional ones) are an important part of learning!\n",
    "\n",
    "It says that objects of type \"int\" (integers, whole numbers) have no length. So what can we do now? Maybe we can write our number as a string? Strings have a length, right?"
   ]
  },
  {
   "cell_type": "code",
   "execution_count": 15,
   "id": "140b0c0c-1bf1-49a0-b4a2-7b8b9fc7e078",
   "metadata": {},
   "outputs": [
    {
     "data": {
      "text/plain": [
       "6"
      ]
     },
     "execution_count": 15,
     "metadata": {},
     "output_type": "execute_result"
    }
   ],
   "source": [
    "len(str(304023))"
   ]
  },
  {
   "cell_type": "markdown",
   "id": "95e33155-8cf6-42a8-ba1d-bd073b579378",
   "metadata": {},
   "source": [
    "It worked! We used the ```str``` function inside of the ```len``` function. ```str()``` converts everything to strings.\n",
    "\n",
    "The ```str``` function converts things into **strings**\n",
    "The ```int``` function converts things into **integers**\n",
    "\n",
    "> Important: we can convert numbers into text, but we can't necessarily convert text into numbers – what would ```int('hello')``` be anyway?"
   ]
  },
  {
   "cell_type": "markdown",
   "id": "d75eddc4-fb1e-47a8-9b2b-dd8d138b2fdc",
   "metadata": {},
   "source": [
    "## Variables"
   ]
  },
  {
   "cell_type": "markdown",
   "id": "af78835b-a688-4553-ab73-ba1ad641fc38",
   "metadata": {},
   "source": [
    "An important concept in programming is variables. A variable is nothing more than a name for something so you can use it later. Programmers use these variables to store data, make their code more readable and so they don't have to keep remembering what things are.\n",
    "\n",
    "Let's say we want to create a new variable called ```name```:"
   ]
  },
  {
   "cell_type": "code",
   "execution_count": 18,
   "id": "fe15cd65-c5b5-42e0-8bb0-8a7d9a626a9d",
   "metadata": {},
   "outputs": [],
   "source": [
    "name = \"Ola\""
   ]
  },
  {
   "cell_type": "markdown",
   "id": "5a91ca1c-b790-4877-aa65-875043cb7cef",
   "metadata": {},
   "source": [
    "We type name equals Ola.\n",
    "\n",
    "As you've noticed, your program didn't return anything like it did before. So how do we know that the variable actually exists? Enter ```name``` and hit ```enter```:"
   ]
  },
  {
   "cell_type": "code",
   "execution_count": 19,
   "id": "b2ee674d-5728-4030-817d-3c479b26e39b",
   "metadata": {},
   "outputs": [
    {
     "data": {
      "text/plain": [
       "'Ola'"
      ]
     },
     "execution_count": 19,
     "metadata": {},
     "output_type": "execute_result"
    }
   ],
   "source": [
    "name"
   ]
  },
  {
   "cell_type": "markdown",
   "id": "4c9a84fd-c87d-4e8e-8a20-1618477ac2c6",
   "metadata": {},
   "source": [
    "Yippee! Your first variable! :) You can always change what it refers to:"
   ]
  },
  {
   "cell_type": "code",
   "execution_count": 20,
   "id": "52748928-b724-4fd4-9029-2bb0e0b332ad",
   "metadata": {},
   "outputs": [
    {
     "data": {
      "text/plain": [
       "'Sonja'"
      ]
     },
     "execution_count": 20,
     "metadata": {},
     "output_type": "execute_result"
    }
   ],
   "source": [
    "name = \"Sonja\"\n",
    "name"
   ]
  },
  {
   "cell_type": "markdown",
   "id": "c059e722-3aad-4ac7-ae6a-5aaa215e5001",
   "metadata": {},
   "source": [
    "You can use it in functions too:"
   ]
  },
  {
   "cell_type": "code",
   "execution_count": 21,
   "id": "09157fe1-6f9d-4a9b-9b8f-677465de7bfe",
   "metadata": {},
   "outputs": [
    {
     "data": {
      "text/plain": [
       "5"
      ]
     },
     "execution_count": 21,
     "metadata": {},
     "output_type": "execute_result"
    }
   ],
   "source": [
    "len(name)"
   ]
  },
  {
   "cell_type": "markdown",
   "id": "fca55ba6-1946-488a-aa91-09aa2d9f61d8",
   "metadata": {},
   "source": [
    "Awesome, right? Now, variables can be anything – numbers too! Try this:"
   ]
  },
  {
   "cell_type": "code",
   "execution_count": 22,
   "id": "a105d185-7c64-4b35-86c5-285f66983d97",
   "metadata": {},
   "outputs": [
    {
     "data": {
      "text/plain": [
       "24"
      ]
     },
     "execution_count": 22,
     "metadata": {},
     "output_type": "execute_result"
    }
   ],
   "source": [
    "a = 4\n",
    "b = 6\n",
    "a * b"
   ]
  },
  {
   "cell_type": "markdown",
   "id": "251e785c-977c-4627-98dd-53409b206a30",
   "metadata": {},
   "source": [
    "But what if we used the wrong name? Can you guess what would happen? Let's try!"
   ]
  },
  {
   "cell_type": "code",
   "execution_count": null,
   "id": "2d4bc7ad-83ba-47c9-8ee2-a51549fbc434",
   "metadata": {},
   "outputs": [],
   "source": [
    "city = \"Tokyo\"\n",
    "ctiy"
   ]
  },
  {
   "cell_type": "markdown",
   "id": "05031aa9-0996-4a7c-80e2-14aefd969091",
   "metadata": {},
   "source": [
    "An error! As you can see, Python has different types of errors and this one is called a ```NameError```. Python will give you this error if you try to use a variable that hasn't been defined yet. If you encounter this error later, check your code to see if you've mistyped any names.\n",
    "\n",
    "Play with this for a while and see what you can do!"
   ]
  },
  {
   "cell_type": "markdown",
   "id": "6fa47b02-11bb-4cda-8538-c3c8a6d94e0e",
   "metadata": {},
   "source": [
    "## The print function"
   ]
  },
  {
   "cell_type": "markdown",
   "id": "daa1b7b5-59ac-4293-97bb-5abbd935b90a",
   "metadata": {},
   "source": [
    "Try this:"
   ]
  },
  {
   "cell_type": "code",
   "execution_count": 25,
   "id": "350d67ec-d5ef-49be-b01f-8338ef305dd7",
   "metadata": {},
   "outputs": [
    {
     "name": "stdout",
     "output_type": "stream",
     "text": [
      "Maria\n"
     ]
    }
   ],
   "source": [
    "name = 'Maria'\n",
    "print(name)"
   ]
  },
  {
   "cell_type": "markdown",
   "id": "e2e5d4dc-d76c-4131-a219-dba1f72f5c8e",
   "metadata": {},
   "source": [
    "When you just type ```name```, the Python interpreter responds with the string representation of the variable 'name', which is the letters M-a-r-i-a, surrounded by single quotes, ''. When you say ```print(name)```, Python will \"print\" the contents of the variable to the screen, without the quotes, which is neater.\n",
    "\n",
    "As we'll see later, ```print()``` is also useful when we want to print things from inside functions, or when we want to print things on multiple lines."
   ]
  },
  {
   "cell_type": "markdown",
   "id": "7120a896-7af7-4ad4-a62d-8a6c0ff42ee6",
   "metadata": {},
   "source": [
    "## Lists"
   ]
  },
  {
   "cell_type": "markdown",
   "id": "81a9687f-5bfd-4289-9e83-0e0b5022bd2f",
   "metadata": {},
   "source": [
    "Beside strings and integers, Python has all sorts of different types of objects. Now we're going to introduce one called **list**. Lists are exactly what you think they are: objects which are lists of other objects. \n",
    "\n",
    ":)\n",
    "\n",
    "Go ahead and create a list:"
   ]
  },
  {
   "cell_type": "code",
   "execution_count": 26,
   "id": "05328a62-5f5e-43f2-9bc8-7d431871bcc0",
   "metadata": {},
   "outputs": [
    {
     "data": {
      "text/plain": [
       "[]"
      ]
     },
     "execution_count": 26,
     "metadata": {},
     "output_type": "execute_result"
    }
   ],
   "source": [
    "[]"
   ]
  },
  {
   "cell_type": "markdown",
   "id": "4934ae92-90f5-4400-9b7f-264b2a2ab7f2",
   "metadata": {},
   "source": [
    "Yes, this list is empty. Not very useful, right? Let's create a list of lottery numbers. We don't want to repeat ourselves all the time, so we will put it in a variable, too:"
   ]
  },
  {
   "cell_type": "code",
   "execution_count": 28,
   "id": "958925a8-238c-4570-b445-9400afc0f825",
   "metadata": {},
   "outputs": [],
   "source": [
    "lottery = [3, 42, 12, 19, 30, 59]"
   ]
  },
  {
   "cell_type": "markdown",
   "id": "a47862f7-c4a9-49db-8396-e6a719ebfeef",
   "metadata": {},
   "source": [
    "All right, we have a list! What can we do with it? Let's see how many lottery numbers there are in a list. Do you have any idea which function you should use for that? You know this already!"
   ]
  },
  {
   "cell_type": "code",
   "execution_count": 29,
   "id": "0fcc4e07-6722-4a20-b5f1-1edc01429d4a",
   "metadata": {},
   "outputs": [
    {
     "data": {
      "text/plain": [
       "6"
      ]
     },
     "execution_count": 29,
     "metadata": {},
     "output_type": "execute_result"
    }
   ],
   "source": [
    "len(lottery)"
   ]
  },
  {
   "cell_type": "markdown",
   "id": "2ab20e83-0398-4d05-bef8-961b1b1d43a5",
   "metadata": {},
   "source": [
    "Yes! ```len()``` can give you a number of objects in a list. Handy, right? Maybe we will sort it now:"
   ]
  },
  {
   "cell_type": "code",
   "execution_count": 30,
   "id": "2a2d3b40-9857-4a73-a114-b0cfe7845365",
   "metadata": {},
   "outputs": [],
   "source": [
    "lottery.sort()"
   ]
  },
  {
   "cell_type": "markdown",
   "id": "856afc33-37a7-41ab-810b-3b5cbc505cb6",
   "metadata": {},
   "source": [
    "This doesn't return anything, it just changed the order in which the numbers appear in the list. Let's print it out again and see what happened:"
   ]
  },
  {
   "cell_type": "code",
   "execution_count": 31,
   "id": "e7c9abcf-ba8e-4a7f-a07b-63398baa897e",
   "metadata": {},
   "outputs": [
    {
     "name": "stdout",
     "output_type": "stream",
     "text": [
      "[3, 12, 19, 30, 42, 59]\n"
     ]
    }
   ],
   "source": [
    "print(lottery)"
   ]
  },
  {
   "cell_type": "markdown",
   "id": "c5fdfb52-4965-447a-9c12-dce5e7ee2d4e",
   "metadata": {},
   "source": [
    "As you can see, the numbers in your list are now sorted from the lowest to highest value. Congrats!\n",
    "\n",
    "Maybe we want to reverse that order? Let's do that!"
   ]
  },
  {
   "cell_type": "code",
   "execution_count": 32,
   "id": "409ce54c-0ef0-4f6c-a791-665e3fd9af2f",
   "metadata": {},
   "outputs": [
    {
     "name": "stdout",
     "output_type": "stream",
     "text": [
      "[59, 42, 30, 19, 12, 3]\n"
     ]
    }
   ],
   "source": [
    "lottery.reverse()\n",
    "print(lottery)"
   ]
  },
  {
   "cell_type": "markdown",
   "id": "d1bdd192-337b-4892-9bd5-45d224d849a9",
   "metadata": {},
   "source": [
    "If you want to add something to your list, you can do this by typing this command:"
   ]
  },
  {
   "cell_type": "code",
   "execution_count": 33,
   "id": "0ef8f6fb-5758-4e1a-862b-224cd51f38d9",
   "metadata": {},
   "outputs": [
    {
     "name": "stdout",
     "output_type": "stream",
     "text": [
      "[59, 42, 30, 19, 12, 3, 199]\n"
     ]
    }
   ],
   "source": [
    "lottery.append(199)\n",
    "print(lottery)"
   ]
  },
  {
   "cell_type": "markdown",
   "id": "62e52632-56a8-4599-b63f-a3957e701534",
   "metadata": {},
   "source": [
    "If you want to show only the first number, you can do this by using **indexes**. An index is the number that says where in a list an item occurs. Programmers prefer to start counting at 0, so the first object in your list is at index 0, the next one is at 1, and so on. Try this:\n",
    "\n"
   ]
  },
  {
   "cell_type": "code",
   "execution_count": 34,
   "id": "7753eb23-e540-4e74-8fea-69ae5bf89b01",
   "metadata": {},
   "outputs": [
    {
     "name": "stdout",
     "output_type": "stream",
     "text": [
      "59\n",
      "42\n"
     ]
    }
   ],
   "source": [
    "print(lottery[0])\n",
    "print(lottery[1])"
   ]
  },
  {
   "cell_type": "markdown",
   "id": "2107fb28-faea-4fe8-95e2-5fbe0f43a6c2",
   "metadata": {},
   "source": [
    "As you can see, you can access different objects in your list by using the list's name and the object's index inside of square brackets.\n",
    "\n",
    "To delete something from your list you will need to use **indexes** as we learned above and the pop() method. Let's try an example and reinforce what we learned previously; we will be deleting the first number of our list."
   ]
  },
  {
   "cell_type": "code",
   "execution_count": 35,
   "id": "170e0177-a3ed-4c5b-a04c-d1a4907f7af9",
   "metadata": {},
   "outputs": [
    {
     "name": "stdout",
     "output_type": "stream",
     "text": [
      "[59, 42, 30, 19, 12, 3, 199]\n",
      "59\n",
      "[42, 30, 19, 12, 3, 199]\n"
     ]
    }
   ],
   "source": [
    "print(lottery)\n",
    "print(lottery[0])\n",
    "lottery.pop(0)\n",
    "print(lottery)"
   ]
  },
  {
   "cell_type": "markdown",
   "id": "669e2e12-5ee4-4b76-b8b7-4dc4c6250fd7",
   "metadata": {},
   "source": [
    "That worked like a charm!\n",
    "\n",
    "For extra fun, try some other indexes: 6, 7, 1000, -1, -6 or -1000. See if you can predict the result before trying the command. Do the results make sense?\n",
    "\n",
    "You can find a list of all available list methods in this chapter of the Python documentation: https://docs.python.org/3/tutorial/datastructures.html"
   ]
  },
  {
   "cell_type": "markdown",
   "id": "029765a1-e1c6-4232-9f3a-f767a7a94a90",
   "metadata": {},
   "source": [
    "## Dictionaries"
   ]
  },
  {
   "cell_type": "markdown",
   "id": "d9e6be76-d12b-412c-91a2-62664b43381c",
   "metadata": {},
   "source": [
    "> For readers at home: this part is covered in the [Python Basics: Dictionaries](https://www.youtube.com/watch?v=ZX1CVvZLE6c) video."
   ]
  },
  {
   "cell_type": "markdown",
   "id": "ed2dd732-20ec-4e20-9b38-18f5b90e3591",
   "metadata": {},
   "source": [
    "A dictionary is similar to a list, but you access values by looking up a key instead of a numeric index. A key can be any string or number. The syntax to define an empty dictionary is:"
   ]
  },
  {
   "cell_type": "code",
   "execution_count": 36,
   "id": "c611a9df-eaff-4aab-bddf-1e71e8b4199d",
   "metadata": {},
   "outputs": [
    {
     "data": {
      "text/plain": [
       "{}"
      ]
     },
     "execution_count": 36,
     "metadata": {},
     "output_type": "execute_result"
    }
   ],
   "source": [
    "{}"
   ]
  },
  {
   "cell_type": "markdown",
   "id": "3afcf1b7-f4e9-4ee5-8f64-13932c2176bf",
   "metadata": {},
   "source": [
    "This shows that you just created an empty dictionary. Hurray!\n",
    "\n",
    "Now, try writing the following command (try substituting your own information, too):"
   ]
  },
  {
   "cell_type": "code",
   "execution_count": 37,
   "id": "3a89f99e-94c3-4f4c-8a16-a2edd751634e",
   "metadata": {},
   "outputs": [],
   "source": [
    "participant = {'name': 'Ola', 'country': 'Poland', 'favorite_numbers': [7, 42, 92]}"
   ]
  },
  {
   "cell_type": "markdown",
   "id": "94fb9ba7-4aeb-4de6-b511-4a3bd34d6865",
   "metadata": {},
   "source": [
    "With this command, you just created a variable named ```participant``` with three key–value pairs:\n",
    "\n",
    "- The key ```name``` points to the value ```'Ola'``` (a string object),\n",
    "- ```country``` points to ```'Poland'``` (another ```string```),\n",
    "- and ```favorite_numbers``` points to ```[7, 42, 92]``` (a ```list``` with three numbers in it).\n",
    "\n",
    "You can check the content of individual keys with this syntax:"
   ]
  },
  {
   "cell_type": "code",
   "execution_count": 38,
   "id": "ce3dcd40-df44-434d-84b0-d9bfecf1bb8c",
   "metadata": {},
   "outputs": [
    {
     "name": "stdout",
     "output_type": "stream",
     "text": [
      "Ola\n"
     ]
    }
   ],
   "source": [
    "print(participant['name'])"
   ]
  },
  {
   "cell_type": "markdown",
   "id": "cdcd3cd8-4b24-4404-a997-43362a772dee",
   "metadata": {},
   "source": [
    "See, it's similar to a list. But you don't need to remember the index – just the name.\n",
    "\n",
    "What happens if we ask Python the value of a key that doesn't exist? Can you guess? Let's try it and see!"
   ]
  },
  {
   "cell_type": "code",
   "execution_count": null,
   "id": "afd5da03-8836-4461-930c-c9a88f3d3f62",
   "metadata": {},
   "outputs": [],
   "source": [
    "participant['age']"
   ]
  },
  {
   "cell_type": "markdown",
   "id": "4576f41e-3b16-4238-b7d8-810c809fc146",
   "metadata": {},
   "source": [
    "Look, another error! This one is a **KeyError**. Python is helpful and tells you that the key ```'age'``` doesn't exist in this dictionary.\n",
    "\n",
    "When should you use a dictionary or a list? Well, that's a good point to ponder. Think about the answer before looking at it in the next line.\n",
    "\n",
    "- Do you just need an ordered sequence of items? Go for a list.\n",
    "- Do you need to associate values with keys, so you can look them up efficiently (by key) later on? Use a dictionary.\n",
    "\n",
    "Like lists, using the ```len()``` function on the dictionaries returns the number of key–value pairs in the dictionary. Go ahead and type in this command:"
   ]
  },
  {
   "cell_type": "code",
   "execution_count": 40,
   "id": "78546655-06ac-4edb-9275-8dfe409af2fe",
   "metadata": {},
   "outputs": [
    {
     "data": {
      "text/plain": [
       "3"
      ]
     },
     "execution_count": 40,
     "metadata": {},
     "output_type": "execute_result"
    }
   ],
   "source": [
    "len(participant)"
   ]
  },
  {
   "cell_type": "markdown",
   "id": "d76af9d0-d37a-42e4-9604-44d484ffd0fe",
   "metadata": {},
   "source": [
    "Dictionaries, like lists, are *mutable*, meaning that they can be changed after they are created. You can add new key–value pairs to a dictionary after it is created, like this:\n"
   ]
  },
  {
   "cell_type": "code",
   "execution_count": 41,
   "id": "69c6577b-e4ac-4415-bc16-0366dd61ba6a",
   "metadata": {},
   "outputs": [],
   "source": [
    "participant['favorite_language'] = 'Python'"
   ]
  },
  {
   "cell_type": "markdown",
   "id": "7b34c25c-7d92-4ce7-89e6-294465c10afc",
   "metadata": {},
   "source": [
    "I hope it makes sense up to now. :) Ready for some more fun with dictionaries? Read on for some amazing things.\n",
    "\n",
    "You can use the ```pop()``` method to delete an item in the dictionary. Say, if you want to delete the entry corresponding to the key ```'favorite_numbers'```, type in the following command:"
   ]
  },
  {
   "cell_type": "code",
   "execution_count": 42,
   "id": "c8b2c8a4-08d8-4d22-be99-db517d0e3935",
   "metadata": {},
   "outputs": [
    {
     "data": {
      "text/plain": [
       "{'name': 'Ola', 'country': 'Poland', 'favorite_language': 'Python'}"
      ]
     },
     "execution_count": 42,
     "metadata": {},
     "output_type": "execute_result"
    }
   ],
   "source": [
    "participant.pop('favorite_numbers')\n",
    "participant"
   ]
  },
  {
   "cell_type": "markdown",
   "id": "6e6e20cd-e792-43e9-a391-8610a407a46e",
   "metadata": {},
   "source": [
    "As you can see from the output, the key–value pair corresponding to the 'favorite_numbers' key has been deleted.\n",
    "\n",
    "As well as this, you can also change a value associated with an already-created key in the dictionary. Type this:"
   ]
  },
  {
   "cell_type": "code",
   "execution_count": 43,
   "id": "e709de54-b3f8-4f6d-9928-26bc1e0a5ffd",
   "metadata": {},
   "outputs": [
    {
     "data": {
      "text/plain": [
       "{'name': 'Ola', 'country': 'Germany', 'favorite_language': 'Python'}"
      ]
     },
     "execution_count": 43,
     "metadata": {},
     "output_type": "execute_result"
    }
   ],
   "source": [
    "participant['country'] = 'Germany'\n",
    "participant"
   ]
  },
  {
   "cell_type": "markdown",
   "id": "890999f3-cfa8-47fe-a838-57fbfe650fdd",
   "metadata": {},
   "source": [
    "As you can see, the value of the key ```'country'``` has been altered from ```'Poland'``` to ```'Germany'```. :) Exciting? Hurrah! You just learned another amazing thing."
   ]
  },
  {
   "cell_type": "markdown",
   "id": "9392cca2-058e-47ff-892c-52d1f9699cc8",
   "metadata": {},
   "source": [
    "## Summary"
   ]
  },
  {
   "cell_type": "markdown",
   "id": "4d46a232-e4a4-467b-8580-36018d6d2a93",
   "metadata": {},
   "source": [
    "Awesome! You know a lot about programming now. In this last part you learned about:\n",
    "\n",
    "- **errors** – you now know how to read and understand errors that show up if Python doesn't understand a command you've given it\n",
    "- **variables** – names for objects that allow you to code more easily and to make your code more readable\n",
    "- **lists** – lists of objects stored in a particular order\n",
    "- **dictionaries** – objects stored as key–value pairs\n",
    "\n",
    "Excited for the next part? :)"
   ]
  },
  {
   "cell_type": "markdown",
   "id": "51cb4c70-2ff2-474a-8bbb-e0f418d7df68",
   "metadata": {},
   "source": [
    "## Compare things"
   ]
  },
  {
   "cell_type": "markdown",
   "id": "5743a694-eab2-4df4-9839-470eacf05d72",
   "metadata": {},
   "source": [
    "> For readers at home: this part is covered in the [Python Basics: Comparisons](https://www.youtube.com/watch?v=7bzxqIKYgf4) video."
   ]
  },
  {
   "cell_type": "markdown",
   "id": "7e75ec8b-9d45-4236-beba-25e435c8d81b",
   "metadata": {},
   "source": [
    "A big part of programming involves comparing things. What's the easiest thing to compare? Numbers! Let's see how that works:"
   ]
  },
  {
   "cell_type": "code",
   "execution_count": 46,
   "id": "011cbdad-84eb-4312-b385-4b080683ba9d",
   "metadata": {},
   "outputs": [
    {
     "data": {
      "text/plain": [
       "True"
      ]
     },
     "execution_count": 46,
     "metadata": {},
     "output_type": "execute_result"
    }
   ],
   "source": [
    "5 > 2"
   ]
  },
  {
   "cell_type": "code",
   "execution_count": 47,
   "id": "9341c128-a51b-417d-9212-dc1a7bfa1041",
   "metadata": {},
   "outputs": [
    {
     "data": {
      "text/plain": [
       "False"
      ]
     },
     "execution_count": 47,
     "metadata": {},
     "output_type": "execute_result"
    }
   ],
   "source": [
    "3 < 1"
   ]
  },
  {
   "cell_type": "code",
   "execution_count": 48,
   "id": "97278cdd-a6df-460a-9bb4-a2a51941b804",
   "metadata": {},
   "outputs": [
    {
     "data": {
      "text/plain": [
       "True"
      ]
     },
     "execution_count": 48,
     "metadata": {},
     "output_type": "execute_result"
    }
   ],
   "source": [
    "5 > 2 * 2"
   ]
  },
  {
   "cell_type": "code",
   "execution_count": 49,
   "id": "0d415f30-da9a-4354-8737-0ce85ac87d05",
   "metadata": {},
   "outputs": [
    {
     "data": {
      "text/plain": [
       "True"
      ]
     },
     "execution_count": 49,
     "metadata": {},
     "output_type": "execute_result"
    }
   ],
   "source": [
    "1 == 1"
   ]
  },
  {
   "cell_type": "code",
   "execution_count": 50,
   "id": "7c7f6b93-6350-4239-bc46-cad6f6b42603",
   "metadata": {},
   "outputs": [
    {
     "data": {
      "text/plain": [
       "True"
      ]
     },
     "execution_count": 50,
     "metadata": {},
     "output_type": "execute_result"
    }
   ],
   "source": [
    "5 != 2"
   ]
  },
  {
   "cell_type": "code",
   "execution_count": 51,
   "id": "f4e22e24-d971-49a2-a300-a0a783080d99",
   "metadata": {},
   "outputs": [
    {
     "data": {
      "text/plain": [
       "True"
      ]
     },
     "execution_count": 51,
     "metadata": {},
     "output_type": "execute_result"
    }
   ],
   "source": [
    "len([1, 2, 3]) > len([4, 5])"
   ]
  },
  {
   "cell_type": "markdown",
   "id": "5fd4601f-6f58-4287-9dda-dce041371e65",
   "metadata": {},
   "source": [
    "We gave Python some numbers to compare. As you can see, not only can Python compare numbers, but it can also compare values of mathematical expressions like ```2 * 2``` and function results like the ```2``` returned by ```len([4, 5])```. Nice, huh?\n",
    "\n",
    "Do you wonder why we put two equal signs ```==``` next to each other to compare if numbers are equal? We use a single ```=``` for assigning values to variables. You always, always need to put two of them – ```==``` – if you want to check if things are equal to each other. We can also state that things are unequal to each other. For that, we use the symbol ```!=```, as shown in the example above.\n",
    "\n",
    "Give Python two more tasks:"
   ]
  },
  {
   "cell_type": "code",
   "execution_count": 52,
   "id": "dcf640a4-5a6e-4db0-bee0-4d14375df7a7",
   "metadata": {},
   "outputs": [
    {
     "data": {
      "text/plain": [
       "True"
      ]
     },
     "execution_count": 52,
     "metadata": {},
     "output_type": "execute_result"
    }
   ],
   "source": [
    "6 >= 12 / 2"
   ]
  },
  {
   "cell_type": "code",
   "execution_count": 53,
   "id": "557ae335-540b-45bf-b176-afe5f174e806",
   "metadata": {},
   "outputs": [
    {
     "data": {
      "text/plain": [
       "False"
      ]
     },
     "execution_count": 53,
     "metadata": {},
     "output_type": "execute_result"
    }
   ],
   "source": [
    "3 <= 2"
   ]
  },
  {
   "cell_type": "markdown",
   "id": "05f19b70-e190-45a8-95f6-e752b0562e96",
   "metadata": {},
   "source": [
    "We've seen ```>``` and ```<```, but what do ```>=``` and ```<=``` mean? Read them like this:\n",
    "\n",
    "- x ```>``` y means: x is greater than y\n",
    "- x ```<``` y means: x is less than y\n",
    "- x ```<=``` y means: x is less than or equal to y\n",
    "- x ```>=``` y means: x is greater than or equal to y\n",
    "\n",
    "Awesome! Wanna do one more? Try this:"
   ]
  },
  {
   "cell_type": "code",
   "execution_count": 54,
   "id": "4ef426bb-4e72-480e-a56d-7a1afd670573",
   "metadata": {},
   "outputs": [
    {
     "data": {
      "text/plain": [
       "True"
      ]
     },
     "execution_count": 54,
     "metadata": {},
     "output_type": "execute_result"
    }
   ],
   "source": [
    "6 > 2 and 2 < 3"
   ]
  },
  {
   "cell_type": "code",
   "execution_count": 55,
   "id": "203c0c82-a789-4042-a288-26e3c3d5f2a2",
   "metadata": {},
   "outputs": [
    {
     "data": {
      "text/plain": [
       "False"
      ]
     },
     "execution_count": 55,
     "metadata": {},
     "output_type": "execute_result"
    }
   ],
   "source": [
    "3 > 2 and 2 < 1"
   ]
  },
  {
   "cell_type": "code",
   "execution_count": 56,
   "id": "9f0dc23a-5154-4f4d-9335-ccb355ac2041",
   "metadata": {},
   "outputs": [
    {
     "data": {
      "text/plain": [
       "True"
      ]
     },
     "execution_count": 56,
     "metadata": {},
     "output_type": "execute_result"
    }
   ],
   "source": [
    "3 > 2 or 2 < 1"
   ]
  },
  {
   "cell_type": "markdown",
   "id": "e41f1ea9-0d4f-4e55-9e5e-95dfcf76838f",
   "metadata": {},
   "source": [
    "You can give Python as many numbers to compare as you want, and it will give you an answer! Pretty smart, right?\n",
    "\n",
    "- **and** – if you use the ```and``` operator, both comparisons have to be True in order for the whole command to be True\n",
    "- **or** – if you use the ```or``` operator, only one of the comparisons has to be True in order for the whole command to be True\n",
    "\n",
    "Have you heard of the expression \"comparing apples to oranges\"? Let's try the Python equivalent:"
   ]
  },
  {
   "cell_type": "code",
   "execution_count": 57,
   "id": "727976df-4f50-40b4-9a88-81588f725387",
   "metadata": {},
   "outputs": [
    {
     "ename": "TypeError",
     "evalue": "'>' not supported between instances of 'int' and 'str'",
     "output_type": "error",
     "traceback": [
      "\u001b[0;31m---------------------------------------------------------------------------\u001b[0m",
      "\u001b[0;31mTypeError\u001b[0m                                 Traceback (most recent call last)",
      "Cell \u001b[0;32mIn[57], line 1\u001b[0m\n\u001b[0;32m----> 1\u001b[0m \u001b[38;5;241;43m1\u001b[39;49m\u001b[43m \u001b[49m\u001b[38;5;241;43m>\u001b[39;49m\u001b[43m \u001b[49m\u001b[38;5;124;43m'\u001b[39;49m\u001b[38;5;124;43mdjango\u001b[39;49m\u001b[38;5;124;43m'\u001b[39;49m\n",
      "\u001b[0;31mTypeError\u001b[0m: '>' not supported between instances of 'int' and 'str'"
     ]
    }
   ],
   "source": [
    "1 > 'django'"
   ]
  },
  {
   "cell_type": "markdown",
   "id": "49ab9657-89fb-48f3-b8ae-f85117df2f34",
   "metadata": {},
   "source": [
    "Here you see that just like in the expression, Python is not able to compare a number ```(int)``` and a string ```(str)```. Instead, it shows a **TypeError** and tells us the two types can't be compared together."
   ]
  },
  {
   "cell_type": "markdown",
   "id": "ca44daa4-b0a3-405a-be54-c6e32f31d5bd",
   "metadata": {},
   "source": [
    "## Boolean"
   ]
  },
  {
   "cell_type": "markdown",
   "id": "68c49589-ab2e-459f-9c5b-fa23abf72993",
   "metadata": {},
   "source": [
    "Incidentally, you just learned about a new type of object in Python. It's called **Boolean**.\n",
    "\n",
    "There are only two Boolean objects:\n",
    "\n",
    "- True\n",
    "- False\n",
    "\n",
    "But for Python to understand this, you need to always write it as 'True' (first letter uppercase, with the rest of the letters lowercased). ***true, TRUE, and tRUE won't work – only True is correct.*** (The same applies to 'False' as well.)\n",
    "\n",
    "Booleans can be variables, too! See here:"
   ]
  },
  {
   "cell_type": "code",
   "execution_count": 58,
   "id": "0086f2b2-7eb8-4a1f-ac91-24b7febc620e",
   "metadata": {},
   "outputs": [
    {
     "data": {
      "text/plain": [
       "True"
      ]
     },
     "execution_count": 58,
     "metadata": {},
     "output_type": "execute_result"
    }
   ],
   "source": [
    "a = True\n",
    "a\n"
   ]
  },
  {
   "cell_type": "markdown",
   "id": "b02a05e4-fd33-440d-935c-a9c1c1514529",
   "metadata": {},
   "source": [
    "You can also do it this way:"
   ]
  },
  {
   "cell_type": "code",
   "execution_count": 59,
   "id": "928d5816-75d7-433d-8eae-54627dba5eff",
   "metadata": {},
   "outputs": [
    {
     "data": {
      "text/plain": [
       "False"
      ]
     },
     "execution_count": 59,
     "metadata": {},
     "output_type": "execute_result"
    }
   ],
   "source": [
    "a = 2 > 5\n",
    "a"
   ]
  },
  {
   "cell_type": "markdown",
   "id": "66ba43ca-2937-420a-bb4a-d6f6f2f2f7ac",
   "metadata": {},
   "source": [
    "Practice and have fun with Booleans by trying to run the following commands:"
   ]
  },
  {
   "cell_type": "markdown",
   "id": "a106494c-fb42-4f06-abce-342343eb2fa0",
   "metadata": {},
   "source": [
    "- True and True\n",
    "- False and True\n",
    "- True or 1 == 1\n",
    "- 1 != 2"
   ]
  },
  {
   "cell_type": "markdown",
   "id": "9c3f5536-b461-4e1f-9b14-c39c4ee8ba3f",
   "metadata": {},
   "source": [
    "Congrats! Booleans are one of the coolest features in programming, and you just learned how to use them!"
   ]
  },
  {
   "cell_type": "markdown",
   "id": "69849096-5bf3-4c27-8285-2ccfcf70c9f2",
   "metadata": {},
   "source": [
    "## Save it!"
   ]
  },
  {
   "cell_type": "markdown",
   "id": "d929849e-e937-4c6e-8226-27d60ff86006",
   "metadata": {},
   "source": [
    "For readers at home: this part is covered in the [Python Basics: Saving files and \"If\" statement](https://www.youtube.com/watch?v=dOAg6QVAxyk) video."
   ]
  },
  {
   "cell_type": "markdown",
   "id": "9dd27236-9065-484c-95c9-c137a213d397",
   "metadata": {},
   "source": [
    "This will put you back into the command prompt.\n",
    "\n",
    "Earlier, we picked out a code editor from the [code editor](runcode.io) section. We'll need to open the editor now and write some code into a new file (or if you're using a Chromebook, create a new file in the cloud IDE and open the file, which will be in the included code editor):"
   ]
  },
  {
   "cell_type": "code",
   "execution_count": 60,
   "id": "564460cf-0952-4d63-ad90-7322fd522ebe",
   "metadata": {},
   "outputs": [
    {
     "name": "stdout",
     "output_type": "stream",
     "text": [
      "Hello, Django girls!\n"
     ]
    }
   ],
   "source": [
    "print('Hello, Django girls!')"
   ]
  },
  {
   "cell_type": "markdown",
   "id": "c1f8502d-2c22-432b-94e0-7d2ef12a0b61",
   "metadata": {},
   "source": [
    "Obviously, you're a pretty seasoned Python developer now, so feel free to write some code that you've learned today.\n",
    "\n",
    "Now we need to save the file and give it a descriptive name. Let's call the file **python_intro.py** and save it to your desktop. We can name the file anything we want, but the important part here is to make sure the file ends in **.py**. The **.py** extension tells our operating system that this is a **Python executable file** and Python can run it."
   ]
  },
  {
   "cell_type": "markdown",
   "id": "08725ea6-6ac0-4990-a2ba-d9d6992aadf7",
   "metadata": {},
   "source": [
    "> Note You should notice one of the coolest thing about code editors: colors! In the Python console, everything was the same color; now you should see that the ```print``` function is a different color from the string. This is called \"syntax highlighting\", and it's a really useful feature when coding. The color of things will give you hints, such as unclosed strings or a typo in a keyword name (like the ```def``` in a function, which we'll see below). This is one of the reasons we use a code editor. :)"
   ]
  }
 ],
 "metadata": {
  "kernelspec": {
   "display_name": "Python 3 (ipykernel)",
   "language": "python",
   "name": "python3"
  },
  "language_info": {
   "codemirror_mode": {
    "name": "ipython",
    "version": 3
   },
   "file_extension": ".py",
   "mimetype": "text/x-python",
   "name": "python",
   "nbconvert_exporter": "python",
   "pygments_lexer": "ipython3",
   "version": "3.8.10"
  }
 },
 "nbformat": 4,
 "nbformat_minor": 5
}
