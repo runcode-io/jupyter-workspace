{
 "cells": [
  {
   "cell_type": "markdown",
   "id": "00384cf0-f76a-4ad9-bb62-544d6eeb8ecf",
   "metadata": {
    "jp-MarkdownHeadingCollapsed": true,
    "tags": []
   },
   "source": [
    "![Image of Runcode](https://media-exp1.licdn.com/dms/image/C560BAQH0paRXBSX50Q/company-logo_200_200/0/1660196645277?e=2147483647&v=beta&t=sYzfsiGceN6S8Ah9FY7IOJdY9MdZzStqANVKjqTsu9U)\n",
    "# RunCode\n",
    "#### (Cloud Development Environment)"
   ]
  },
  {
   "cell_type": "markdown",
   "id": "a0555e2f-20e9-443b-a019-704da5c82fb6",
   "metadata": {
    "tags": []
   },
   "source": [
    "# Introduction to Jupyter Notebook (Favorite tool of Data Scientists)"
   ]
  },
  {
   "cell_type": "markdown",
   "id": "6de9a9a2-9aff-400d-9ab9-1e498029c2e9",
   "metadata": {},
   "source": [
    "Runcode supports Jupyter Lab to create and share IPython Notebooks that contain interactive code, images, visualizations, text, etc."
   ]
  },
  {
   "cell_type": "markdown",
   "id": "3c7fbcf6-f2fc-464e-9101-40af3e6492d9",
   "metadata": {},
   "source": [
    "Jupyter notebooks are documents that combine Python code, rich text, and additional code (such as Bash), organized into executable blocks. It contains both computer code (such as Python) and other text elements such as paragraph, markdown, figures, links, etc. In this tutorial, we are going to understand the basics of Jupyter notebooks, why they are used, how to run, and use Jupyter notebooks for a wide array of tasks."
   ]
  },
  {
   "cell_type": "markdown",
   "id": "1dad89ec-c261-4011-aa9f-22612ee3c210",
   "metadata": {},
   "source": [
    "## Running notebooks"
   ]
  },
  {
   "cell_type": "markdown",
   "id": "59544c49-db77-4e2d-bf07-05ac5b8e08f9",
   "metadata": {},
   "source": [
    "The Jupyter notebook, by default, comes installed with the Python kernel that allows us to run Python code."
   ]
  },
  {
   "cell_type": "markdown",
   "id": "af1f0a01-a926-45e8-8930-1b3ea536770f",
   "metadata": {},
   "source": [
    "### Cells"
   ]
  },
  {
   "cell_type": "markdown",
   "id": "47489a0e-134d-4fcd-82bd-60561d8b6f57",
   "metadata": {},
   "source": [
    "A cell is a textbox that allows us to edit and write code, with syntax highlighting, similar to that of a code editor or IDE. The kernel associated with the notebook takes care of executing the code written in the cell.\n",
    "\n",
    "Notebook consists of three basic cell types:\n",
    "\n",
    "1. Code cell\n",
    "2. Markdown cell\n",
    "3. Raw cell"
   ]
  },
  {
   "cell_type": "markdown",
   "id": "8a445200-eab5-4d63-85ad-a1e7557a829f",
   "metadata": {},
   "source": [
    "1. Code cell: \n",
    "\n",
    "Code cells allow users to write, edit, and execute code(Python code by default) that is run in the kernel. For example,"
   ]
  },
  {
   "cell_type": "raw",
   "id": "a877e577-3358-4a6b-8b49-61a5ac7e5436",
   "metadata": {},
   "source": [
    "a = 12\n",
    "b = 2\n",
    "\n",
    "print(a + b)\n",
    "print(a**b)\n",
    "print(a/b)"
   ]
  },
  {
   "cell_type": "markdown",
   "id": "1056cdeb-6e46-4596-a401-8c4748da1e7b",
   "metadata": {},
   "source": [
    "After running the above code cell, the output will be"
   ]
  },
  {
   "cell_type": "raw",
   "id": "1bc89f6e-fc94-4a89-98ac-bf42d9c89a2d",
   "metadata": {},
   "source": [
    "14\n",
    "144\n",
    "6.0"
   ]
  },
  {
   "cell_type": "markdown",
   "id": "181ac704-2894-4eda-aae3-af195d809002",
   "metadata": {},
   "source": [
    "2. Markdown cell:\n",
    "\n",
    "Markdown cells allow users to write and execute markdown. The output is displayed below the cell in a neatly formatted markdown. For example,"
   ]
  },
  {
   "cell_type": "raw",
   "id": "ef4ed460-600c-4ccf-9f8a-50dcd1d39f3c",
   "metadata": {
    "tags": []
   },
   "source": [
    "# Heading 1\n",
    "## Heading 2\n",
    "## Heading 3"
   ]
  },
  {
   "cell_type": "markdown",
   "id": "bc707150-5142-496c-967f-6df421479e19",
   "metadata": {},
   "source": [
    "After running the above code cell, the output will be"
   ]
  },
  {
   "cell_type": "markdown",
   "id": "d80a9083-b15e-4015-ab62-89631a3bbc9b",
   "metadata": {},
   "source": [
    "# Heading 1\n",
    "## Heading 2\n",
    "## Heading 3"
   ]
  },
  {
   "cell_type": "markdown",
   "id": "0885a06e-97a0-45ba-b30a-0e79173be6fd",
   "metadata": {},
   "source": [
    "3. Raw cell:\n",
    "\n",
    "Raw cells allow users to write output directly and are not evaluated by the notebook."
   ]
  },
  {
   "cell_type": "raw",
   "id": "ae945111-8c1a-4026-bb94-b5275cfa95f0",
   "metadata": {},
   "source": [
    "this is a raw cell\n",
    "Jupyter doesn't execute anything written in this cell"
   ]
  },
  {
   "cell_type": "markdown",
   "id": "de363a4c-1b83-43af-a549-43d51b58f58c",
   "metadata": {},
   "source": [
    "Above is the example for raw cell."
   ]
  },
  {
   "cell_type": "markdown",
   "id": "b0ed2ab3-7b0f-4ce3-a7af-1091c0faca84",
   "metadata": {},
   "source": [
    "## Toolbar elements"
   ]
  },
  {
   "cell_type": "markdown",
   "id": "9c8013d2-95bf-4859-ae48-5698a3a8bbe5",
   "metadata": {},
   "source": [
    "<div class=\"table-wrapper\">\n",
    "<table class=\" wide\" id=\"8826c5b1\">\n",
    "<thead>\n",
    "<tr class=\"ijRowHead\" id=\"6f31e964\">\n",
    "    <th id=\"5dfb9747\">\n",
    "        <p>Toolbar element</p>\n",
    "    </th>\n",
    "    <th id=\"70f4bdb\">\n",
    "<p>Description</p>\n",
    "    </th>\n",
    "</tr>\n",
    "</thead>\n",
    "<tbody>\n",
    "<tr class=\"\" id=\"8b118c6b\">\n",
    "    <td id=\"d32370c2\">\n",
    "        <p><img class=\"inline-icon-\" id=\"888a21d1\"\n",
    "                src=\"https://resources.jetbrains.com/help/img/idea/2022.2/app.general.add.png\"\n",
    "                data-dark-src=\"https://resources.jetbrains.com/help/img/idea/2022.2/app.general.add_dark.png\"\n",
    "                alt=\"new cell\" width=\"16px\" height=\"16px\" /></p>\n",
    "    </td>\n",
    "    <td id=\"371dedd1\">\n",
    "        <p>Adds a code cell below the selected cell.</p>\n",
    "    </td>\n",
    "</tr>\n",
    "<tr class=\"\" id=\"192497dc\">\n",
    "    <td id=\"d8b9070\">\n",
    "        <p><img class=\"inline-icon-\" id=\"53d7210c\"\n",
    "                src=\"https://resources.jetbrains.com/help/img/idea/2022.2/app.actions.menu-cut.svg\"\n",
    "                data-dark-src=\"https://resources.jetbrains.com/help/img/idea/2022.2/app.actions.menu-cut_dark.svg\"\n",
    "                alt=\"Cut\" width=\"16px\" height=\"16px\" /></p>\n",
    "    </td>\n",
    "    <td id=\"f70280d9\">\n",
    "        <p>Moves the selected item or items from the current location to the\n",
    "            clipboard. Moves the entire cell if it's selected.</p>\n",
    "    </td>\n",
    "</tr>\n",
    "<tr class=\"\" id=\"6aeead7b\">\n",
    "    <td id=\"ecda3be3\">\n",
    "        <p><img class=\"inline-icon-\" id=\"abb3da16\"\n",
    "                src=\"https://resources.jetbrains.com/help/img/idea/2022.2/app.actions.copy.svg\"\n",
    "                data-dark-src=\"https://resources.jetbrains.com/help/img/idea/2022.2/app.actions.copy_dark.svg\"\n",
    "                alt=\"Copy\" width=\"16px\" height=\"16px\" /></p>\n",
    "    </td>\n",
    "    <td id=\"94a513a1\">\n",
    "        <p>Copies the selected item or items to the clipboard. Copies the\n",
    "            entire cell if it's selected.</p>\n",
    "    </td>\n",
    "</tr>\n",
    "<tr class=\"\" id=\"13129323\">\n",
    "    <td id=\"438fd916\">\n",
    "        <p><img class=\"inline-icon-\" id=\"579acdbd\"\n",
    "                src=\"https://resources.jetbrains.com/help/img/idea/2022.2/app.actions.menu-paste.svg\"\n",
    "                data-dark-src=\"https://resources.jetbrains.com/help/img/idea/2022.2/app.actions.menu-paste_dark.svg\"\n",
    "                alt=\"Paste\" width=\"16px\" height=\"16px\" /></p>\n",
    "    </td>\n",
    "    <td id=\"cd3e57a\">\n",
    "        <p>Inserts the contents of the clipboard into the selected location.\n",
    "            If you've selected an entire cell, the contents are pasted to a\n",
    "            new cell below the selected one.</p>\n",
    "    </td>\n",
    "</tr>\n",
    "<tr class=\"\" id=\"f41752e1\">\n",
    "    <td id=\"2a041bd6\">\n",
    "        <p><img class=\"inline-icon-\" id=\"13d258e\"\n",
    "                src=\"https://resources.jetbrains.com/help/img/idea/2022.2/app.actions.previousOccurence.png\"\n",
    "                data-dark-src=\"https://resources.jetbrains.com/help/img/idea/2022.2/app.actions.previousOccurence_dark.png\"\n",
    "                alt=\"Move cell up\" width=\"16px\" height=\"16px\" /></p>\n",
    "    </td>\n",
    "    <td id=\"99324a8b\">\n",
    "        <p>Moves the current cell up.</p>\n",
    "    </td>\n",
    "</tr>\n",
    "<tr class=\"\" id=\"a6d372b3\">\n",
    "    <td id=\"b4298451\">\n",
    "        <p><img class=\"inline-icon-\" id=\"f6620ba8\"\n",
    "                src=\"https://resources.jetbrains.com/help/img/idea/2022.2/app.actions.nextOccurence.svg\"\n",
    "                data-dark-src=\"https://resources.jetbrains.com/help/img/idea/2022.2/app.actions.nextOccurence_dark.svg\"\n",
    "                alt=\"Move cell down\" width=\"16px\" height=\"16px\" /></p>\n",
    "    </td>\n",
    "    <td id=\"ba9066c\">\n",
    "        <p>Moves the current cell down.</p>\n",
    "    </td>\n",
    "</tr>\n",
    "<tr class=\"\" id=\"f7cfbd0f\">\n",
    "    <td id=\"6d5a380f\">\n",
    "        <p><img class=\"inline-icon-\" id=\"606fa371\"\n",
    "                src=\"https://resources.jetbrains.com/help/img/idea/2022.2/pycharm-ds.icons.com.jetbrains.python.jupyter.runAndSelect.svg\"\n",
    "                data-dark-src=\"https://resources.jetbrains.com/help/img/idea/2022.2/pycharm-ds.icons.com.jetbrains.python.jupyter.runAndSelect_dark.svg\"\n",
    "                alt=\"Run cell\" width=\"16px\" height=\"16px\" /></p>\n",
    "    </td>\n",
    "    <td id=\"b47439db\">\n",
    "        <p>Executes this cell and selects a cell below. If there is no a\n",
    "            cell below, PyCharm will create it.</p>\n",
    "    </td>\n",
    "</tr>\n",
    "<tr class=\"\" id=\"f201a9b0\">\n",
    "    <td id=\"76ddfeca\">\n",
    "        <p><img class=\"inline-icon-\" id=\"918ba874\"\n",
    "                src=\"https://resources.jetbrains.com/help/img/idea/2022.2/app.actions.startDebugger_dark.png\"\n",
    "                data-dark-src=\"https://resources.jetbrains.com/help/img/idea/2022.2/app.actions.startDebugger_dark.png\"\n",
    "                alt=\"Debug cell\" width=\"16px\" height=\"16px\" /></p>\n",
    "    </td>\n",
    "    <td id=\"a9cf04ea\">\n",
    "        <p>Starts debugging for this cell.</p>\n",
    "    </td>\n",
    "</tr>\n",
    "<tr class=\"\" id=\"87cc7d83\">\n",
    "    <td id=\"a85734e1\">\n",
    "        <p><img class=\"inline-icon-\" id=\"f063da98\"\n",
    "                src=\"https://resources.jetbrains.com/help/img/idea/2022.2/app.actions.suspend.svg\"\n",
    "                data-dark-src=\"https://resources.jetbrains.com/help/img/idea/2022.2/app.actions.suspend_dark.svg\"\n",
    "                alt=\"Interrupt kernel\" width=\"16px\" height=\"16px\" /></p>\n",
    "    </td>\n",
    "    <td id=\"3fdc7294\">\n",
    "        <p>Click this icon if you want to interrupt any <a\n",
    "                href=\"running-jupyter-notebook-cells.html\"\n",
    "                id=\"3b9c0f77\">cell execution</a>.</p>\n",
    "    </td>\n",
    "</tr>\n",
    "<tr class=\"\" id=\"b9571ac1\">\n",
    "    <td id=\"97414968\">\n",
    "        <p><img class=\"inline-icon-\" id=\"f9e8dccb\"\n",
    "                src=\"https://resources.jetbrains.com/help/img/idea/2022.2/app.actions.restart.svg\"\n",
    "                data-dark-src=\"https://resources.jetbrains.com/help/img/idea/2022.2/app.actions.restart_dark.svg\"\n",
    "                alt=\"Restart the kernel\" width=\"16px\" height=\"16px\" /></p>\n",
    "    </td>\n",
    "    <td id=\"aab8f5b9\">\n",
    "        <p>Click this icon to <a\n",
    "                href=\"configuring-jupyter-notebook.html#restart-kernel\"\n",
    "                id=\"eb6d01cf\">restart the currently running kernel</a>.</p>\n",
    "    </td>\n",
    "</tr>\n",
    "<tr class=\"\" id=\"57a22008\">\n",
    "    <td id=\"58253400\">\n",
    "        <p><img class=\"inline-icon-\" id=\"2f74ed84\"\n",
    "                src=\"https://resources.jetbrains.com/help/img/idea/2022.2/app.runConfigurations.testState.run_run.svg\"\n",
    "                data-dark-src=\"https://resources.jetbrains.com/help/img/idea/2022.2/app.runConfigurations.testState.run_run_dark.svg\"\n",
    "                alt=\"Run all cells\" width=\"16px\" height=\"16px\" /></p>\n",
    "    </td>\n",
    "    <td id=\"18c73d93\">\n",
    "        <p>Executes all cells in the notebook.</p>\n",
    "    </td>\n",
    "</tr>\n",
    "<tr class=\"\" id=\"63bb704\">\n",
    "    <td id=\"3b616b10\">\n",
    "        <p><img alt=\"Cell type\" title=\"Cell type\" id=\"7be6926b\"\n",
    "                src=\"https://resources.jetbrains.com/help/img/idea/2022.2/py_ds_cell_type_icon.png\"\n",
    "                class=\" inline-icon-\" width=\"32\" height=\"11\" /></p>\n",
    "    </td>\n",
    "    <td id=\"86977edf\">\n",
    "        <p>You can select a cell type from this list and change the type for\n",
    "            the selected cell.</p>\n",
    "    </td>\n",
    "</tr>\n",
    "<tr class=\"\" id=\"c96f0605\">\n",
    "    <td id=\"37d6499d\">\n",
    "        <p><img class=\"inline-icon-\" id=\"67d809b3\"\n",
    "                src=\"https://resources.jetbrains.com/help/img/idea/2022.2/app.actions.gc.png\"\n",
    "                data-dark-src=\"https://resources.jetbrains.com/help/img/idea/2022.2/app.actions.gc_dark.png\"\n",
    "                alt=\"remove the cell\" width=\"16px\" height=\"16px\" /></p>\n",
    "    </td>\n",
    "    <td id=\"e51bb916\">\n",
    "        <p>Deletes the current cell.</p>\n",
    "    </td>\n",
    "</tr>\n",
    "</tbody>\n",
    "</table>\n",
    "</div>"
   ]
  }
 ],
 "metadata": {
  "kernelspec": {
   "display_name": "Python 3 (ipykernel)",
   "language": "python",
   "name": "python3"
  },
  "language_info": {
   "codemirror_mode": {
    "name": "ipython",
    "version": 3
   },
   "file_extension": ".py",
   "mimetype": "text/x-python",
   "name": "python",
   "nbconvert_exporter": "python",
   "pygments_lexer": "ipython3",
   "version": "3.8.10"
  }
 },
 "nbformat": 4,
 "nbformat_minor": 5
}
